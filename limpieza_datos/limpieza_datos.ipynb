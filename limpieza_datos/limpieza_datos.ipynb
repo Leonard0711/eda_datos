{
 "cells": [
  {
   "cell_type": "markdown",
   "id": "9b69a9bf",
   "metadata": {},
   "source": [
    "# Algunos pasos comunes para la limpieza de datos"
   ]
  },
  {
   "cell_type": "markdown",
   "id": "23022060",
   "metadata": {},
   "source": [
    "Importando librerías mas utilizadas"
   ]
  },
  {
   "cell_type": "code",
   "execution_count": 78,
   "id": "dbba50f2",
   "metadata": {},
   "outputs": [],
   "source": [
    "import pandas as pd\n",
    "import numpy as np\n",
    "import matplotlib.pyplot as plt"
   ]
  },
  {
   "cell_type": "markdown",
   "id": "cab27216",
   "metadata": {},
   "source": [
    "Cargando un dataset de kaggle"
   ]
  },
  {
   "cell_type": "code",
   "execution_count": 79,
   "id": "856a136b",
   "metadata": {},
   "outputs": [
    {
     "data": {
      "text/html": [
       "<div>\n",
       "<style scoped>\n",
       "    .dataframe tbody tr th:only-of-type {\n",
       "        vertical-align: middle;\n",
       "    }\n",
       "\n",
       "    .dataframe tbody tr th {\n",
       "        vertical-align: top;\n",
       "    }\n",
       "\n",
       "    .dataframe thead th {\n",
       "        text-align: right;\n",
       "    }\n",
       "</style>\n",
       "<table border=\"1\" class=\"dataframe\">\n",
       "  <thead>\n",
       "    <tr style=\"text-align: right;\">\n",
       "      <th></th>\n",
       "      <th>Pregnancies</th>\n",
       "      <th>Glucose</th>\n",
       "      <th>BloodPressure</th>\n",
       "      <th>SkinThickness</th>\n",
       "      <th>Insulin</th>\n",
       "      <th>BMI</th>\n",
       "      <th>DiabetesPedigreeFunction</th>\n",
       "      <th>Age</th>\n",
       "      <th>Outcome</th>\n",
       "    </tr>\n",
       "  </thead>\n",
       "  <tbody>\n",
       "    <tr>\n",
       "      <th>0</th>\n",
       "      <td>6</td>\n",
       "      <td>148</td>\n",
       "      <td>72</td>\n",
       "      <td>35</td>\n",
       "      <td>0</td>\n",
       "      <td>33.6</td>\n",
       "      <td>0.627</td>\n",
       "      <td>50</td>\n",
       "      <td>1</td>\n",
       "    </tr>\n",
       "    <tr>\n",
       "      <th>1</th>\n",
       "      <td>1</td>\n",
       "      <td>85</td>\n",
       "      <td>66</td>\n",
       "      <td>29</td>\n",
       "      <td>0</td>\n",
       "      <td>26.6</td>\n",
       "      <td>0.351</td>\n",
       "      <td>31</td>\n",
       "      <td>0</td>\n",
       "    </tr>\n",
       "    <tr>\n",
       "      <th>2</th>\n",
       "      <td>8</td>\n",
       "      <td>183</td>\n",
       "      <td>64</td>\n",
       "      <td>0</td>\n",
       "      <td>0</td>\n",
       "      <td>23.3</td>\n",
       "      <td>0.672</td>\n",
       "      <td>32</td>\n",
       "      <td>1</td>\n",
       "    </tr>\n",
       "    <tr>\n",
       "      <th>3</th>\n",
       "      <td>1</td>\n",
       "      <td>89</td>\n",
       "      <td>66</td>\n",
       "      <td>23</td>\n",
       "      <td>94</td>\n",
       "      <td>28.1</td>\n",
       "      <td>0.167</td>\n",
       "      <td>21</td>\n",
       "      <td>0</td>\n",
       "    </tr>\n",
       "    <tr>\n",
       "      <th>4</th>\n",
       "      <td>0</td>\n",
       "      <td>137</td>\n",
       "      <td>40</td>\n",
       "      <td>35</td>\n",
       "      <td>168</td>\n",
       "      <td>43.1</td>\n",
       "      <td>2.288</td>\n",
       "      <td>33</td>\n",
       "      <td>1</td>\n",
       "    </tr>\n",
       "  </tbody>\n",
       "</table>\n",
       "</div>"
      ],
      "text/plain": [
       "   Pregnancies  Glucose  BloodPressure  SkinThickness  Insulin   BMI  \\\n",
       "0            6      148             72             35        0  33.6   \n",
       "1            1       85             66             29        0  26.6   \n",
       "2            8      183             64              0        0  23.3   \n",
       "3            1       89             66             23       94  28.1   \n",
       "4            0      137             40             35      168  43.1   \n",
       "\n",
       "   DiabetesPedigreeFunction  Age  Outcome  \n",
       "0                     0.627   50        1  \n",
       "1                     0.351   31        0  \n",
       "2                     0.672   32        1  \n",
       "3                     0.167   21        0  \n",
       "4                     2.288   33        1  "
      ]
     },
     "execution_count": 79,
     "metadata": {},
     "output_type": "execute_result"
    }
   ],
   "source": [
    "import kagglehub\n",
    "import os\n",
    "path_kaggle = kagglehub.dataset_download(\"mathchi/diabetes-data-set\")\n",
    "ruta_df = os.path.join(path_kaggle, \"diabetes.csv\")\n",
    "df_diabetes = pd.read_csv(ruta_df)\n",
    "df_diabetes.head()"
   ]
  },
  {
   "cell_type": "markdown",
   "id": "9615de71",
   "metadata": {},
   "source": [
    "## Revisión inicial de un dataset\n",
    "\n",
    "- ```.info()```: muestra información general sobre el DataFrame.\n",
    "    - Número total de filas\n",
    "    - Nombre de cada columna\n",
    "    - Tipo de dato (int64, float64, object, etc.)\n",
    "    - Número de valores no nulos por columna\n",
    "    - Uso aproximado de memoria\n",
    "- ```.describe()```: genera estadísticas descriptivas para cada columna numérica por defecto.\n",
    "    - **count**: número de valores no nulos\n",
    "    - **mean**: media\n",
    "    - **std**: desviación estándar\n",
    "    - **min, max**: valores mínimo y máximo\n",
    "    - **25%, 50%, 75%**: percentiles"
   ]
  },
  {
   "cell_type": "code",
   "execution_count": 80,
   "id": "45c0c8ee",
   "metadata": {},
   "outputs": [
    {
     "name": "stdout",
     "output_type": "stream",
     "text": [
      "<class 'pandas.core.frame.DataFrame'>\n",
      "RangeIndex: 768 entries, 0 to 767\n",
      "Data columns (total 9 columns):\n",
      " #   Column                    Non-Null Count  Dtype  \n",
      "---  ------                    --------------  -----  \n",
      " 0   Pregnancies               768 non-null    int64  \n",
      " 1   Glucose                   768 non-null    int64  \n",
      " 2   BloodPressure             768 non-null    int64  \n",
      " 3   SkinThickness             768 non-null    int64  \n",
      " 4   Insulin                   768 non-null    int64  \n",
      " 5   BMI                       768 non-null    float64\n",
      " 6   DiabetesPedigreeFunction  768 non-null    float64\n",
      " 7   Age                       768 non-null    int64  \n",
      " 8   Outcome                   768 non-null    int64  \n",
      "dtypes: float64(2), int64(7)\n",
      "memory usage: 54.1 KB\n"
     ]
    }
   ],
   "source": [
    "df_diabetes.info()"
   ]
  },
  {
   "cell_type": "code",
   "execution_count": 81,
   "id": "eb91a343",
   "metadata": {},
   "outputs": [
    {
     "data": {
      "text/html": [
       "<div>\n",
       "<style scoped>\n",
       "    .dataframe tbody tr th:only-of-type {\n",
       "        vertical-align: middle;\n",
       "    }\n",
       "\n",
       "    .dataframe tbody tr th {\n",
       "        vertical-align: top;\n",
       "    }\n",
       "\n",
       "    .dataframe thead th {\n",
       "        text-align: right;\n",
       "    }\n",
       "</style>\n",
       "<table border=\"1\" class=\"dataframe\">\n",
       "  <thead>\n",
       "    <tr style=\"text-align: right;\">\n",
       "      <th></th>\n",
       "      <th>Pregnancies</th>\n",
       "      <th>Glucose</th>\n",
       "      <th>BloodPressure</th>\n",
       "      <th>SkinThickness</th>\n",
       "      <th>Insulin</th>\n",
       "      <th>BMI</th>\n",
       "      <th>DiabetesPedigreeFunction</th>\n",
       "      <th>Age</th>\n",
       "      <th>Outcome</th>\n",
       "    </tr>\n",
       "  </thead>\n",
       "  <tbody>\n",
       "    <tr>\n",
       "      <th>count</th>\n",
       "      <td>768.000000</td>\n",
       "      <td>768.000000</td>\n",
       "      <td>768.000000</td>\n",
       "      <td>768.000000</td>\n",
       "      <td>768.000000</td>\n",
       "      <td>768.000000</td>\n",
       "      <td>768.000000</td>\n",
       "      <td>768.000000</td>\n",
       "      <td>768.000000</td>\n",
       "    </tr>\n",
       "    <tr>\n",
       "      <th>mean</th>\n",
       "      <td>3.845052</td>\n",
       "      <td>120.894531</td>\n",
       "      <td>69.105469</td>\n",
       "      <td>20.536458</td>\n",
       "      <td>79.799479</td>\n",
       "      <td>31.992578</td>\n",
       "      <td>0.471876</td>\n",
       "      <td>33.240885</td>\n",
       "      <td>0.348958</td>\n",
       "    </tr>\n",
       "    <tr>\n",
       "      <th>std</th>\n",
       "      <td>3.369578</td>\n",
       "      <td>31.972618</td>\n",
       "      <td>19.355807</td>\n",
       "      <td>15.952218</td>\n",
       "      <td>115.244002</td>\n",
       "      <td>7.884160</td>\n",
       "      <td>0.331329</td>\n",
       "      <td>11.760232</td>\n",
       "      <td>0.476951</td>\n",
       "    </tr>\n",
       "    <tr>\n",
       "      <th>min</th>\n",
       "      <td>0.000000</td>\n",
       "      <td>0.000000</td>\n",
       "      <td>0.000000</td>\n",
       "      <td>0.000000</td>\n",
       "      <td>0.000000</td>\n",
       "      <td>0.000000</td>\n",
       "      <td>0.078000</td>\n",
       "      <td>21.000000</td>\n",
       "      <td>0.000000</td>\n",
       "    </tr>\n",
       "    <tr>\n",
       "      <th>25%</th>\n",
       "      <td>1.000000</td>\n",
       "      <td>99.000000</td>\n",
       "      <td>62.000000</td>\n",
       "      <td>0.000000</td>\n",
       "      <td>0.000000</td>\n",
       "      <td>27.300000</td>\n",
       "      <td>0.243750</td>\n",
       "      <td>24.000000</td>\n",
       "      <td>0.000000</td>\n",
       "    </tr>\n",
       "    <tr>\n",
       "      <th>50%</th>\n",
       "      <td>3.000000</td>\n",
       "      <td>117.000000</td>\n",
       "      <td>72.000000</td>\n",
       "      <td>23.000000</td>\n",
       "      <td>30.500000</td>\n",
       "      <td>32.000000</td>\n",
       "      <td>0.372500</td>\n",
       "      <td>29.000000</td>\n",
       "      <td>0.000000</td>\n",
       "    </tr>\n",
       "    <tr>\n",
       "      <th>75%</th>\n",
       "      <td>6.000000</td>\n",
       "      <td>140.250000</td>\n",
       "      <td>80.000000</td>\n",
       "      <td>32.000000</td>\n",
       "      <td>127.250000</td>\n",
       "      <td>36.600000</td>\n",
       "      <td>0.626250</td>\n",
       "      <td>41.000000</td>\n",
       "      <td>1.000000</td>\n",
       "    </tr>\n",
       "    <tr>\n",
       "      <th>max</th>\n",
       "      <td>17.000000</td>\n",
       "      <td>199.000000</td>\n",
       "      <td>122.000000</td>\n",
       "      <td>99.000000</td>\n",
       "      <td>846.000000</td>\n",
       "      <td>67.100000</td>\n",
       "      <td>2.420000</td>\n",
       "      <td>81.000000</td>\n",
       "      <td>1.000000</td>\n",
       "    </tr>\n",
       "  </tbody>\n",
       "</table>\n",
       "</div>"
      ],
      "text/plain": [
       "       Pregnancies     Glucose  BloodPressure  SkinThickness     Insulin  \\\n",
       "count   768.000000  768.000000     768.000000     768.000000  768.000000   \n",
       "mean      3.845052  120.894531      69.105469      20.536458   79.799479   \n",
       "std       3.369578   31.972618      19.355807      15.952218  115.244002   \n",
       "min       0.000000    0.000000       0.000000       0.000000    0.000000   \n",
       "25%       1.000000   99.000000      62.000000       0.000000    0.000000   \n",
       "50%       3.000000  117.000000      72.000000      23.000000   30.500000   \n",
       "75%       6.000000  140.250000      80.000000      32.000000  127.250000   \n",
       "max      17.000000  199.000000     122.000000      99.000000  846.000000   \n",
       "\n",
       "              BMI  DiabetesPedigreeFunction         Age     Outcome  \n",
       "count  768.000000                768.000000  768.000000  768.000000  \n",
       "mean    31.992578                  0.471876   33.240885    0.348958  \n",
       "std      7.884160                  0.331329   11.760232    0.476951  \n",
       "min      0.000000                  0.078000   21.000000    0.000000  \n",
       "25%     27.300000                  0.243750   24.000000    0.000000  \n",
       "50%     32.000000                  0.372500   29.000000    0.000000  \n",
       "75%     36.600000                  0.626250   41.000000    1.000000  \n",
       "max     67.100000                  2.420000   81.000000    1.000000  "
      ]
     },
     "execution_count": 81,
     "metadata": {},
     "output_type": "execute_result"
    }
   ],
   "source": [
    "df_diabetes.describe()"
   ]
  },
  {
   "cell_type": "markdown",
   "id": "896977fa",
   "metadata": {},
   "source": [
    "## Manejo de datos faltantes "
   ]
  },
  {
   "cell_type": "markdown",
   "id": "dae9c0eb",
   "metadata": {},
   "source": [
    "Creando el dataframe de ejemplo"
   ]
  },
  {
   "cell_type": "code",
   "execution_count": 82,
   "id": "78125b8f",
   "metadata": {},
   "outputs": [
    {
     "name": "stdout",
     "output_type": "stream",
     "text": [
      "      var_1     var_2     var_3     var_4     var_5\n",
      "0  0.374540  0.026367  0.650167  0.020861  0.012715\n",
      "1  0.950714  0.376463  0.364697  0.653263  0.992415\n",
      "2  0.731994  0.810553  0.560677  0.332315  0.671455\n",
      "3  0.598658  0.987276  0.481062  0.542479  0.316922\n",
      "4  0.156019  0.150417  0.884998  0.493277  0.879269\n"
     ]
    }
   ],
   "source": [
    "np.random.seed(42)\n",
    "var_1 = np.random.rand(300)\n",
    "nan_indices_var_1 = np.random.choice(len(var_1), 10, replace=False)\n",
    "var_1[nan_indices_var_1] = np.nan\n",
    "var_2 = np.random.rand(300)\n",
    "nan_indices_var_2 = np.random.choice(len(var_2), 15, replace=False)\n",
    "var_2[nan_indices_var_2] = np.nan\n",
    "var_3 = np.random.rand(300)\n",
    "var_4 = np.random.rand(300)\n",
    "nan_indices_var_4 = np.random.choice(len(var_4), 40, replace=False)\n",
    "var_4[nan_indices_var_4] = np.nan\n",
    "var_5 = np.random.rand(300)\n",
    "\n",
    "df_nulls = pd.DataFrame({\"var_1\": var_1,\n",
    "                         \"var_2\": var_2,\n",
    "                         \"var_3\": var_3,\n",
    "                         \"var_4\": var_4,\n",
    "                         \"var_5\": var_5})\n",
    "print(df_nulls.head())"
   ]
  },
  {
   "cell_type": "code",
   "execution_count": 83,
   "id": "182445cc",
   "metadata": {},
   "outputs": [
    {
     "data": {
      "text/plain": [
       "var_1    10\n",
       "var_2    15\n",
       "var_3     0\n",
       "var_4    40\n",
       "var_5     0\n",
       "dtype: int64"
      ]
     },
     "execution_count": 83,
     "metadata": {},
     "output_type": "execute_result"
    }
   ],
   "source": [
    "# cantidad de valores nulos por columna\n",
    "df_nulls.isnull().sum()"
   ]
  },
  {
   "cell_type": "markdown",
   "id": "8e4c104a",
   "metadata": {},
   "source": [
    "Eliminación de valores nulos (```NaN```) ya sea por columnas o filas\n",
    "\n",
    "- Parámetros útiles de ```.dropna()```:\n",
    "    - ```axis=0```: elimina filas que contienen valores nulos **(por defecto)**.\n",
    "    - ```axis=1```: elimina columnas que contienen valores nulos.\n",
    "    - ```how='any'```: elimina si hay al menos un valor nulo **(por defecto)**.\n",
    "    - ```how='all'```: elimina si todos los valores son nulos.\n",
    "    - ```subset=['var_1', 'var_2']```: aplica la eliminación solo a ciertas columnas. "
   ]
  },
  {
   "cell_type": "code",
   "execution_count": 84,
   "id": "7fd9b5c1",
   "metadata": {},
   "outputs": [
    {
     "name": "stdout",
     "output_type": "stream",
     "text": [
      "Cantidad de filas: 300\n",
      "--------------------------------------------------\n",
      "        var_1     var_2     var_3     var_4     var_5\n",
      "0    0.374540  0.026367  0.650167  0.020861  0.012715\n",
      "1    0.950714  0.376463  0.364697  0.653263  0.992415\n",
      "2    0.731994  0.810553  0.560677  0.332315  0.671455\n",
      "3    0.598658  0.987276  0.481062  0.542479  0.316922\n",
      "4    0.156019  0.150417  0.884998  0.493277  0.879269\n",
      "..        ...       ...       ...       ...       ...\n",
      "293  0.360191  0.450839  0.329017  0.961666  0.110748\n",
      "294  0.127061  0.113238  0.470183  0.634960  0.759582\n",
      "295  0.522243  0.984841  0.744279  0.754838  0.988066\n",
      "297  0.215821  0.124663  0.433655  0.409478  0.651668\n",
      "299  0.085347  0.869896  0.161673  0.821806  0.254322\n",
      "\n",
      "[240 rows x 5 columns]\n",
      "--------------------------------------------------\n",
      "Cantidad de filas sin valores nulos: 240\n"
     ]
    }
   ],
   "source": [
    "# se eliminó las filas que contienen al menos un valor nulo\n",
    "print(f\"Cantidad de filas: {df_nulls.shape[0]}\")\n",
    "print(\"-\"*50)\n",
    "df_nulls_rows = df_nulls.dropna()\n",
    "print(df_nulls_rows)\n",
    "print(\"-\"*50)\n",
    "print(f\"Cantidad de filas sin valores nulos: {df_nulls_rows.shape[0]}\")"
   ]
  },
  {
   "cell_type": "code",
   "execution_count": 85,
   "id": "b20d0d2e",
   "metadata": {},
   "outputs": [
    {
     "name": "stdout",
     "output_type": "stream",
     "text": [
      "Cantidad de columnas: 5\n",
      "--------------------------------------------------\n",
      "        var_3     var_5\n",
      "0    0.650167  0.012715\n",
      "1    0.364697  0.992415\n",
      "2    0.560677  0.671455\n",
      "3    0.481062  0.316922\n",
      "4    0.884998  0.879269\n",
      "..        ...       ...\n",
      "295  0.744279  0.988066\n",
      "296  0.871833  0.901296\n",
      "297  0.433655  0.651668\n",
      "298  0.043662  0.314061\n",
      "299  0.161673  0.254322\n",
      "\n",
      "[300 rows x 2 columns]\n",
      "--------------------------------------------------\n",
      "Cantidad de columnas sin valores nulos: 2\n"
     ]
    }
   ],
   "source": [
    "# se eliminó las columnas que contienen al menos un valor nulo\n",
    "print(f\"Cantidad de columnas: {df_nulls.shape[1]}\")\n",
    "print(\"-\"*50)\n",
    "df_nulls_cols = df_nulls.dropna(axis=1)\n",
    "print(df_nulls_cols)\n",
    "print(\"-\"*50)\n",
    "print(f\"Cantidad de columnas sin valores nulos: {df_nulls_cols.shape[1]}\")"
   ]
  },
  {
   "cell_type": "markdown",
   "id": "ebbc4938",
   "metadata": {},
   "source": [
    "### Demostración de los valores nulos"
   ]
  },
  {
   "cell_type": "markdown",
   "id": "34f59d46",
   "metadata": {},
   "source": [
    "Cantidad y porcentaje de valores nulos por variable (columnas)"
   ]
  },
  {
   "cell_type": "code",
   "execution_count": 86,
   "id": "846c67a5",
   "metadata": {},
   "outputs": [
    {
     "name": "stdout",
     "output_type": "stream",
     "text": [
      "  variable  nulos  porc_nulos\n",
      "0    var_1     10        3.33\n",
      "1    var_2     15        5.00\n",
      "2    var_3      0        0.00\n",
      "3    var_4     40       13.33\n",
      "4    var_5      0        0.00\n"
     ]
    },
    {
     "data": {
      "image/png": "[encoded data removed]",
      "text/plain": [
       "<Figure size 600x500 with 1 Axes>"
      ]
     },
     "metadata": {},
     "output_type": "display_data"
    }
   ],
   "source": [
    "import seaborn as sns\n",
    "nulls_var = df_nulls.isnull().sum().reset_index(name=\"nulos\").rename(columns={\"index\":\"variable\"})\n",
    "nulls_var[\"porc_nulos\"] = round(nulls_var[\"nulos\"]/df_nulls.shape[0]*100, 2)\n",
    "print(nulls_var)\n",
    "\n",
    "plt.figure(figsize=(6,5))\n",
    "sns.barplot(data=nulls_var, x=\"variable\", y=\"porc_nulos\")\n",
    "# cada row es una fila y se accede a su valor de una columna específica y se toma el primer valor con [0]\n",
    "nulls_var.apply(lambda row: plt.text(x=nulls_var.index[nulls_var[\"variable\"]==row[\"variable\"]][0],\\\n",
    "                                     y=row[\"porc_nulos\"] + 0.1, s=str(f\"{row['porc_nulos']}%\"),\n",
    "                                     ha=\"center\"), axis=1)\n",
    "plt.title(\"Porcentaje de valores nulos por variable\")\n",
    "plt.ylabel(\"Porcentaje\")\n",
    "plt.xlabel(\"Variables\")\n",
    "plt.tight_layout()\n",
    "plt.show()"
   ]
  },
  {
   "cell_type": "markdown",
   "id": "0584f2f6",
   "metadata": {},
   "source": [
    "Cantidad y porcentaje de valores nulos por caso (filas)"
   ]
  },
  {
   "cell_type": "code",
   "execution_count": 134,
   "id": "05541046",
   "metadata": {},
   "outputs": [
    {
     "name": "stdout",
     "output_type": "stream",
     "text": [
      "   num_caso  nulos  porc_nulos\n",
      "0        93      2        40.0\n",
      "1       126      2        40.0\n",
      "2       138      2        40.0\n",
      "3       147      2        40.0\n",
      "4       270      2        40.0\n"
     ]
    },
    {
     "data": {
      "image/png": "[encoded data removed]",
      "text/plain": [
       "<Figure size 3000x400 with 2 Axes>"
      ]
     },
     "metadata": {},
     "output_type": "display_data"
    }
   ],
   "source": [
    "df_nulls_cases = df_nulls.assign(\n",
    "    num_caso = df_nulls.index,\n",
    "    nulos = df_nulls.isnull().sum(axis=1),\n",
    "    porc_nulos = lambda df: round((df[\"nulos\"]/df_nulls.shape[1])*100, 2)\n",
    ").sort_values(by=\"porc_nulos\", ascending=False)\n",
    "print(df_nulls_cases[[\"num_caso\", \"nulos\", \"porc_nulos\"]].reset_index(drop=True).head())\n",
    "\n",
    "plt.figure(figsize=(30,4))\n",
    "plt.title(\"Valores nulos por caso\", size=20)\n",
    "sns.heatmap(df_nulls.isnull().transpose())\n",
    "plt.show()"
   ]
  },
  {
   "cell_type": "markdown",
   "id": "fe434726",
   "metadata": {},
   "source": [
    "### Imputación de valores nulos por contexto"
   ]
  },
  {
   "cell_type": "code",
   "execution_count": 88,
   "id": "87000f1b",
   "metadata": {},
   "outputs": [
    {
     "name": "stdout",
     "output_type": "stream",
     "text": [
      "   var_1  var_2  var_3  var_4\n",
      "0    1.0    4.0    9.0    NaN\n",
      "1    2.0    NaN    1.0    7.0\n",
      "2    3.0    1.0    2.0    4.0\n",
      "3    NaN    2.0    3.0    3.0\n",
      "4    4.0    NaN    NaN    2.0\n",
      "5    5.0    8.0    NaN    1.0\n"
     ]
    }
   ],
   "source": [
    "# creando un segundo dataframe de ejemplo\n",
    "df_nulls_2 = pd.DataFrame({\"var_1\": [1,2,3,np.nan,4,5],\n",
    "                           \"var_2\": [4,np.nan,1,2,np.nan,8],\n",
    "                           \"var_3\": [9,1,2,3,np.nan, np.nan],\n",
    "                           \"var_4\": [np.nan,7,4,3,2,1]})\n",
    "print(df_nulls_2)"
   ]
  },
  {
   "cell_type": "markdown",
   "id": "81042ea8",
   "metadata": {},
   "source": [
    "- ```.bfill()```: backward fill, completa los valores nulos con el último valor no nulo posterior (abajo hacia arriba)\n",
    "- ```.ffill()```: forward fill, completa los valores nulos con el último valor no nulo anterior (arriba hacia abajo)"
   ]
  },
  {
   "cell_type": "code",
   "execution_count": 89,
   "id": "19607114",
   "metadata": {},
   "outputs": [
    {
     "name": "stdout",
     "output_type": "stream",
     "text": [
      "   var_1  var_2  var_3  var_4\n",
      "0    1.0    4.0    9.0    7.0\n",
      "1    2.0    1.0    1.0    7.0\n",
      "2    3.0    1.0    2.0    4.0\n",
      "3    4.0    2.0    3.0    3.0\n",
      "4    4.0    8.0    NaN    2.0\n",
      "5    5.0    8.0    NaN    1.0\n"
     ]
    }
   ],
   "source": [
    "print(df_nulls_2.bfill())"
   ]
  },
  {
   "cell_type": "code",
   "execution_count": 90,
   "id": "337277a2",
   "metadata": {},
   "outputs": [
    {
     "name": "stdout",
     "output_type": "stream",
     "text": [
      "   var_1  var_2  var_3  var_4\n",
      "0    1.0    4.0    9.0    NaN\n",
      "1    2.0    4.0    1.0    7.0\n",
      "2    3.0    1.0    2.0    4.0\n",
      "3    3.0    2.0    3.0    3.0\n",
      "4    4.0    2.0    3.0    2.0\n",
      "5    5.0    8.0    3.0    1.0\n"
     ]
    }
   ],
   "source": [
    "print(df_nulls_2.ffill())"
   ]
  },
  {
   "cell_type": "markdown",
   "id": "23b1c34e",
   "metadata": {},
   "source": [
    "### Imputación de valores nulos con Sklearn"
   ]
  },
  {
   "cell_type": "markdown",
   "id": "a1994558",
   "metadata": {},
   "source": [
    "- Algunos tipos de strategy en ```SimpleImputer()```:\n",
    "    - ```'mean'```: Reemplaza los valores nulos con la media de la columna, aplicable a **valores numéricas**.\n",
    "    - ```'median'```: Reemplaza con la mediana, aplicable a **valores numéricas**.\n",
    "    - ```'most_frequent'```: Reemplaza con el valor más frecuente (moda) aplicable a **valores numéricas** y **categóricas**."
   ]
  },
  {
   "cell_type": "code",
   "execution_count": 91,
   "id": "9aa39cec",
   "metadata": {},
   "outputs": [
    {
     "name": "stdout",
     "output_type": "stream",
     "text": [
      "Valores calculados para imputar los valores faltantes en cada columna: 0.499, 0.493, 0.509, 0.493, 0.498\n",
      "----------------------------------------------------------------------\n",
      "        var_1     var_2     var_3     var_4     var_5\n",
      "0    0.374540  0.026367  0.650167  0.020861  0.012715\n",
      "1    0.950714  0.376463  0.364697  0.653263  0.992415\n",
      "2    0.731994  0.810553  0.560677  0.332315  0.671455\n",
      "3    0.598658  0.987276  0.481062  0.542479  0.316922\n",
      "4    0.156019  0.150417  0.884998  0.493277  0.879269\n",
      "..        ...       ...       ...       ...       ...\n",
      "295  0.522243  0.984841  0.744279  0.754838  0.988066\n",
      "296  0.769994  0.838898  0.871833  0.492849  0.901296\n",
      "297  0.215821  0.124663  0.433655  0.409478  0.651668\n",
      "298  0.622890  0.920842  0.043662  0.492849  0.314061\n",
      "299  0.085347  0.869896  0.161673  0.821806  0.254322\n",
      "\n",
      "[300 rows x 5 columns]\n"
     ]
    }
   ],
   "source": [
    "# imputación de valores faltantes con la media de cada columna\n",
    "from sklearn.impute import SimpleImputer\n",
    "si = SimpleImputer(strategy=\"mean\")\n",
    "df_nulls_mean = si.fit_transform(df_nulls)\n",
    "df_nulls_mean = pd.DataFrame(df_nulls_mean, columns=df_nulls.columns)\n",
    "print(f\"Valores calculados para imputar los valores faltantes en cada columna: {', '.join(map(lambda x: str(round(x,3)), si.statistics_))}\")\n",
    "print(\"-\"*70)\n",
    "print(df_nulls_mean)"
   ]
  },
  {
   "cell_type": "markdown",
   "id": "63881c07",
   "metadata": {},
   "source": [
    "Imputación basada en vecinos más cercanos (K-Nearest Neighbors)."
   ]
  },
  {
   "cell_type": "code",
   "execution_count": null,
   "id": "9fcf9f15",
   "metadata": {},
   "outputs": [
    {
     "name": "stdout",
     "output_type": "stream",
     "text": [
      "Valores calculados para imputar los valores faltantes en cada columna:\n",
      "Columna var_1: [0.409, 0.145, 0.791, 0.264, 0.294, 0.49, 0.488, 0.583, 0.544, 0.831]\n",
      "Columna var_2: [0.301, 0.322, 0.432, 0.678, 0.407, 0.858, 0.698, 0.817, 0.804, 0.812, 0.647, 0.771, 0.638, 0.658, 0.481]\n",
      "Columna var_3: []\n",
      "Columna var_4: [0.792, 0.165, 0.3, 0.583, 0.713, 0.73, 0.267, 0.328, 0.504, 0.452, 0.92, 0.77, 0.255, 0.605, 0.62, 0.271, 0.802, 0.268, 0.432, 0.626, 0.517, 0.833, 0.357, 0.409, 0.254, 0.658, 0.445, 0.688, 0.319, 0.528, 0.205, 0.334, 0.464, 0.287, 0.338, 0.236, 0.339, 0.205, 0.433, 0.696]\n",
      "Columna var_5: []\n",
      "----------------------------------------------------------------------\n",
      "        var_1     var_2     var_3     var_4     var_5\n",
      "0    0.374540  0.026367  0.650167  0.020861  0.012715\n",
      "1    0.950714  0.376463  0.364697  0.653263  0.992415\n",
      "2    0.731994  0.810553  0.560677  0.332315  0.671455\n",
      "3    0.598658  0.987276  0.481062  0.542479  0.316922\n",
      "4    0.156019  0.150417  0.884998  0.493277  0.879269\n",
      "..        ...       ...       ...       ...       ...\n",
      "295  0.522243  0.984841  0.744279  0.754838  0.988066\n",
      "296  0.769994  0.838898  0.871833  0.432605  0.901296\n",
      "297  0.215821  0.124663  0.433655  0.409478  0.651668\n",
      "298  0.622890  0.920842  0.043662  0.695565  0.314061\n",
      "299  0.085347  0.869896  0.161673  0.821806  0.254322\n",
      "\n",
      "[300 rows x 5 columns]\n"
     ]
    }
   ],
   "source": [
    "from sklearn.impute import KNNImputer\n",
    "\n",
    "knn_impute = KNNImputer(n_neighbors=2)\n",
    "df_nulls_knn = knn_impute.fit_transform(df_nulls)\n",
    "df_nulls_knn = pd.DataFrame(df_nulls_knn, columns=df_nulls.columns)\n",
    "\n",
    "# extrayendo los valores imputados por columna\n",
    "valores_imputados = {}\n",
    "\n",
    "for col in df_nulls.columns:\n",
    "    # identificando las posiciones originalmente nulos\n",
    "    pos_nulls = df_nulls[col].isnull()\n",
    "    # extrayendo los valores imputados en esas posiciones\n",
    "    valores_imputados[col] = df_nulls_knn.loc[pos_nulls, col].tolist()\n",
    "print(\"Valores calculados para imputar los valores faltantes en cada columna:\")\n",
    "for col, valor in valores_imputados.items():\n",
    "    valores = [round(v,3) for v in valor]\n",
    "    print(f\"Columna {col}: {valores}\")\n",
    "\n",
    "print(\"-\"*70)\n",
    "print(df_nulls_knn)"
   ]
  },
  {
   "cell_type": "markdown",
   "id": "13ed7584",
   "metadata": {},
   "source": [
    "## Manejo de datos faltantes implícitos\n",
    "\n",
    "Referido a los valores que no están registrados de forma explícita en el dataset, pero cuya ausencia representa un valor faltante."
   ]
  },
  {
   "cell_type": "code",
   "execution_count": 93,
   "id": "845a3fed",
   "metadata": {},
   "outputs": [
    {
     "name": "stdout",
     "output_type": "stream",
     "text": [
      "  usuario   turno  monto\n",
      "0    luis  mañana  250.0\n",
      "1    luis   tarde  280.0\n",
      "2    luis   noche    NaN\n",
      "3  carlos  mañana  180.0\n"
     ]
    }
   ],
   "source": [
    "import pandas as pd\n",
    "import numpy as np\n",
    "df_missing = pd.DataFrame.from_dict(\n",
    "    data={\n",
    "        \"usuario\": [\"luis\", \"luis\", \"luis\", \"carlos\"],\n",
    "        \"turno\": [\"mañana\", \"tarde\", \"noche\", \"mañana\"],\n",
    "        \"monto\": [250, 280, np.nan, 180]\n",
    "    }\n",
    ")\n",
    "print(df_missing)"
   ]
  },
  {
   "cell_type": "markdown",
   "id": "2dfb58cd",
   "metadata": {},
   "source": [
    "Extendiendo las categorías para mayor visualización de los datos faltantes implícitos"
   ]
  },
  {
   "cell_type": "code",
   "execution_count": 94,
   "id": "224acd53",
   "metadata": {},
   "outputs": [
    {
     "name": "stdout",
     "output_type": "stream",
     "text": [
      "turno    mañana  noche  tarde\n",
      "usuario                      \n",
      "carlos    180.0    NaN    NaN\n",
      "luis      250.0    NaN  280.0\n"
     ]
    }
   ],
   "source": [
    "df_missing_pivot = df_missing.pivot(values=\"monto\", index=\"usuario\", columns=\"turno\")\n",
    "print(df_missing_pivot)"
   ]
  },
  {
   "cell_type": "markdown",
   "id": "c20f17ab",
   "metadata": {},
   "source": [
    "Exponiendo los valores faltantes implícitas a explícitas"
   ]
  },
  {
   "cell_type": "code",
   "execution_count": 95,
   "id": "78a993f6",
   "metadata": {},
   "outputs": [
    {
     "name": "stdout",
     "output_type": "stream",
     "text": [
      "  usuario   turno  monto\n",
      "0    luis  mañana  250.0\n",
      "1    luis   tarde  280.0\n",
      "2    luis   noche    NaN\n",
      "3  carlos  mañana  180.0\n",
      "4  carlos   tarde    NaN\n",
      "5  carlos   noche    NaN\n"
     ]
    }
   ],
   "source": [
    "import pandas as pd\n",
    "\n",
    "# seleccionando los nombres de los usuarios y turnos únicos\n",
    "usuarios = df_missing[\"usuario\"].unique()\n",
    "turnos = df_missing[\"turno\"].unique()\n",
    "\n",
    "# creando todas las combinaciones de usuarios con turnos\n",
    "combinaciones = pd.MultiIndex.from_product([usuarios, turnos], names=[\"usuario\", \"turno\"]).to_frame(index=False)\n",
    "\n",
    "# uniendo las columnas de usuario y turno con df_1 (original)\n",
    "df_implicit = combinaciones.merge(df_missing, on=[\"usuario\", \"turno\"], how=\"left\")\n",
    "print(df_implicit)"
   ]
  },
  {
   "cell_type": "markdown",
   "id": "8146166a",
   "metadata": {},
   "source": [
    "Completando los valores faltantes implícitos"
   ]
  },
  {
   "cell_type": "code",
   "execution_count": 96,
   "id": "e3ab0e52",
   "metadata": {},
   "outputs": [
    {
     "name": "stdout",
     "output_type": "stream",
     "text": [
      "  usuario   turno  monto\n",
      "0    luis  mañana  250.0\n",
      "1    luis   tarde  280.0\n",
      "2    luis   noche  265.0\n",
      "3  carlos  mañana  180.0\n",
      "4  carlos   tarde  180.0\n",
      "5  carlos   noche  180.0\n"
     ]
    }
   ],
   "source": [
    "# completando los valores nulos con el promedio de cada monto por usuario  \n",
    "df_implicit[\"monto\"] = df_implicit.groupby(\"usuario\")[\"monto\"].transform(lambda x: x.fillna(x.mean()))\n",
    "print(df_implicit)"
   ]
  },
  {
   "cell_type": "markdown",
   "id": "39cada5d",
   "metadata": {},
   "source": [
    "Limitando la imputación de valores faltantes implícitos: solo se completarán con ceros aquellos campos que fueron expuestos en la tabla df_missing_pivot (pivot)."
   ]
  },
  {
   "cell_type": "code",
   "execution_count": 97,
   "id": "714ad70b",
   "metadata": {},
   "outputs": [
    {
     "data": {
      "text/html": [
       "<div>\n",
       "<style scoped>\n",
       "    .dataframe tbody tr th:only-of-type {\n",
       "        vertical-align: middle;\n",
       "    }\n",
       "\n",
       "    .dataframe tbody tr th {\n",
       "        vertical-align: top;\n",
       "    }\n",
       "\n",
       "    .dataframe thead th {\n",
       "        text-align: right;\n",
       "    }\n",
       "</style>\n",
       "<table border=\"1\" class=\"dataframe\">\n",
       "  <thead>\n",
       "    <tr style=\"text-align: right;\">\n",
       "      <th></th>\n",
       "      <th>usuario</th>\n",
       "      <th>turno</th>\n",
       "      <th>monto</th>\n",
       "    </tr>\n",
       "  </thead>\n",
       "  <tbody>\n",
       "    <tr>\n",
       "      <th>0</th>\n",
       "      <td>luis</td>\n",
       "      <td>mañana</td>\n",
       "      <td>250.0</td>\n",
       "    </tr>\n",
       "    <tr>\n",
       "      <th>1</th>\n",
       "      <td>luis</td>\n",
       "      <td>tarde</td>\n",
       "      <td>280.0</td>\n",
       "    </tr>\n",
       "    <tr>\n",
       "      <th>2</th>\n",
       "      <td>luis</td>\n",
       "      <td>noche</td>\n",
       "      <td>NaN</td>\n",
       "    </tr>\n",
       "    <tr>\n",
       "      <th>3</th>\n",
       "      <td>carlos</td>\n",
       "      <td>mañana</td>\n",
       "      <td>180.0</td>\n",
       "    </tr>\n",
       "    <tr>\n",
       "      <th>4</th>\n",
       "      <td>carlos</td>\n",
       "      <td>tarde</td>\n",
       "      <td>0.0</td>\n",
       "    </tr>\n",
       "    <tr>\n",
       "      <th>5</th>\n",
       "      <td>carlos</td>\n",
       "      <td>noche</td>\n",
       "      <td>0.0</td>\n",
       "    </tr>\n",
       "  </tbody>\n",
       "</table>\n",
       "</div>"
      ],
      "text/plain": [
       "  usuario   turno  monto\n",
       "0    luis  mañana  250.0\n",
       "1    luis   tarde  280.0\n",
       "2    luis   noche    NaN\n",
       "3  carlos  mañana  180.0\n",
       "4  carlos   tarde    0.0\n",
       "5  carlos   noche    0.0"
      ]
     },
     "execution_count": 97,
     "metadata": {},
     "output_type": "execute_result"
    }
   ],
   "source": [
    "# solo se completará con 0 los valores que se están exponiendo en el pivot\n",
    "df_missing.set_index(['usuario', 'turno']).reindex(combinaciones, fill_value=0).reset_index()"
   ]
  },
  {
   "cell_type": "markdown",
   "id": "f3dd9497",
   "metadata": {},
   "source": [
    "## Manejo de valores duplicados"
   ]
  },
  {
   "cell_type": "code",
   "execution_count": 98,
   "id": "6f8019be",
   "metadata": {},
   "outputs": [
    {
     "name": "stdout",
     "output_type": "stream",
     "text": [
      "   Nombre  Edad    Ciudad  Puntaje  Activo\n",
      "0     Ana    25      Lima       85    True\n",
      "1    Luis    30       Ica       90    True\n",
      "2  Carlos    22  Arequipa       88   False\n",
      "3     Ana    25      Lima       85    True\n",
      "4    Luis    30       Ica       90    True\n",
      "5   Marta    28      Puno       92    True\n",
      "6   Pedro    35      Lima       80   False\n",
      "7  Carlos    22   Ucayali       88   False\n",
      "8     Ana    25      Puno       85    True\n",
      "9    Luis    30       Ica       90    True\n"
     ]
    }
   ],
   "source": [
    "df_duplicates = pd.DataFrame({\n",
    "    'Nombre': ['Ana', 'Luis', 'Carlos', 'Ana', 'Luis', 'Marta', 'Pedro', 'Carlos', 'Ana', 'Luis'],\n",
    "    'Edad': [25, 30, 22, 25, 30, 28, 35, 22, 25, 30],\n",
    "    'Ciudad': ['Lima', 'Ica', 'Arequipa', 'Lima', 'Ica', 'Puno', 'Lima', 'Ucayali', 'Puno', 'Ica'],\n",
    "    'Puntaje': [85, 90, 88, 85, 90, 92, 80, 88, 85, 90],\n",
    "    'Activo': [True, True, False, True, True, True, False, False, True, True]\n",
    "})\n",
    "print(df_duplicates)"
   ]
  },
  {
   "cell_type": "markdown",
   "id": "cabb4175",
   "metadata": {},
   "source": [
    "### Marcación de filas duplicadas\n",
    "\n",
    "- Parámetros útiles de ```.duplicated()```:\n",
    "    - ```keep=\"first\"```: no muestra la primera aparición de cada duplicado.\n",
    "    - ```keep=\"last\"```: no muestra la última aparición de cada duplicado.\n",
    "    - ```subset=['var_1', 'var_2']```: especifica qué columnas considerar para identificar duplicados."
   ]
  },
  {
   "cell_type": "code",
   "execution_count": 99,
   "id": "93365a90",
   "metadata": {},
   "outputs": [
    {
     "data": {
      "text/html": [
       "<div>\n",
       "<style scoped>\n",
       "    .dataframe tbody tr th:only-of-type {\n",
       "        vertical-align: middle;\n",
       "    }\n",
       "\n",
       "    .dataframe tbody tr th {\n",
       "        vertical-align: top;\n",
       "    }\n",
       "\n",
       "    .dataframe thead th {\n",
       "        text-align: right;\n",
       "    }\n",
       "</style>\n",
       "<table border=\"1\" class=\"dataframe\">\n",
       "  <thead>\n",
       "    <tr style=\"text-align: right;\">\n",
       "      <th></th>\n",
       "      <th>Nombre</th>\n",
       "      <th>Edad</th>\n",
       "      <th>Ciudad</th>\n",
       "      <th>Puntaje</th>\n",
       "      <th>Activo</th>\n",
       "    </tr>\n",
       "  </thead>\n",
       "  <tbody>\n",
       "    <tr>\n",
       "      <th>3</th>\n",
       "      <td>Ana</td>\n",
       "      <td>25</td>\n",
       "      <td>Lima</td>\n",
       "      <td>85</td>\n",
       "      <td>True</td>\n",
       "    </tr>\n",
       "    <tr>\n",
       "      <th>4</th>\n",
       "      <td>Luis</td>\n",
       "      <td>30</td>\n",
       "      <td>Ica</td>\n",
       "      <td>90</td>\n",
       "      <td>True</td>\n",
       "    </tr>\n",
       "    <tr>\n",
       "      <th>9</th>\n",
       "      <td>Luis</td>\n",
       "      <td>30</td>\n",
       "      <td>Ica</td>\n",
       "      <td>90</td>\n",
       "      <td>True</td>\n",
       "    </tr>\n",
       "  </tbody>\n",
       "</table>\n",
       "</div>"
      ],
      "text/plain": [
       "  Nombre  Edad Ciudad  Puntaje  Activo\n",
       "3    Ana    25   Lima       85    True\n",
       "4   Luis    30    Ica       90    True\n",
       "9   Luis    30    Ica       90    True"
      ]
     },
     "execution_count": 99,
     "metadata": {},
     "output_type": "execute_result"
    }
   ],
   "source": [
    "# conserva la primera aparición y indica a las siguientes como duplicadas\n",
    "df_duplicates[df_duplicates.duplicated(keep=\"first\")]"
   ]
  },
  {
   "cell_type": "code",
   "execution_count": 100,
   "id": "b604af20",
   "metadata": {},
   "outputs": [
    {
     "data": {
      "text/html": [
       "<div>\n",
       "<style scoped>\n",
       "    .dataframe tbody tr th:only-of-type {\n",
       "        vertical-align: middle;\n",
       "    }\n",
       "\n",
       "    .dataframe tbody tr th {\n",
       "        vertical-align: top;\n",
       "    }\n",
       "\n",
       "    .dataframe thead th {\n",
       "        text-align: right;\n",
       "    }\n",
       "</style>\n",
       "<table border=\"1\" class=\"dataframe\">\n",
       "  <thead>\n",
       "    <tr style=\"text-align: right;\">\n",
       "      <th></th>\n",
       "      <th>Nombre</th>\n",
       "      <th>Edad</th>\n",
       "      <th>Ciudad</th>\n",
       "      <th>Puntaje</th>\n",
       "      <th>Activo</th>\n",
       "    </tr>\n",
       "  </thead>\n",
       "  <tbody>\n",
       "    <tr>\n",
       "      <th>0</th>\n",
       "      <td>Ana</td>\n",
       "      <td>25</td>\n",
       "      <td>Lima</td>\n",
       "      <td>85</td>\n",
       "      <td>True</td>\n",
       "    </tr>\n",
       "    <tr>\n",
       "      <th>1</th>\n",
       "      <td>Luis</td>\n",
       "      <td>30</td>\n",
       "      <td>Ica</td>\n",
       "      <td>90</td>\n",
       "      <td>True</td>\n",
       "    </tr>\n",
       "    <tr>\n",
       "      <th>4</th>\n",
       "      <td>Luis</td>\n",
       "      <td>30</td>\n",
       "      <td>Ica</td>\n",
       "      <td>90</td>\n",
       "      <td>True</td>\n",
       "    </tr>\n",
       "  </tbody>\n",
       "</table>\n",
       "</div>"
      ],
      "text/plain": [
       "  Nombre  Edad Ciudad  Puntaje  Activo\n",
       "0    Ana    25   Lima       85    True\n",
       "1   Luis    30    Ica       90    True\n",
       "4   Luis    30    Ica       90    True"
      ]
     },
     "execution_count": 100,
     "metadata": {},
     "output_type": "execute_result"
    }
   ],
   "source": [
    "# conserva la última aparición y indica a las siguientes como duplicadas\n",
    "df_duplicates[df_duplicates.duplicated(keep=\"last\")]"
   ]
  },
  {
   "cell_type": "code",
   "execution_count": 101,
   "id": "30c19fad",
   "metadata": {},
   "outputs": [
    {
     "data": {
      "text/html": [
       "<div>\n",
       "<style scoped>\n",
       "    .dataframe tbody tr th:only-of-type {\n",
       "        vertical-align: middle;\n",
       "    }\n",
       "\n",
       "    .dataframe tbody tr th {\n",
       "        vertical-align: top;\n",
       "    }\n",
       "\n",
       "    .dataframe thead th {\n",
       "        text-align: right;\n",
       "    }\n",
       "</style>\n",
       "<table border=\"1\" class=\"dataframe\">\n",
       "  <thead>\n",
       "    <tr style=\"text-align: right;\">\n",
       "      <th></th>\n",
       "      <th>Nombre</th>\n",
       "      <th>Edad</th>\n",
       "      <th>Ciudad</th>\n",
       "      <th>Puntaje</th>\n",
       "      <th>Activo</th>\n",
       "    </tr>\n",
       "  </thead>\n",
       "  <tbody>\n",
       "    <tr>\n",
       "      <th>3</th>\n",
       "      <td>Ana</td>\n",
       "      <td>25</td>\n",
       "      <td>Lima</td>\n",
       "      <td>85</td>\n",
       "      <td>True</td>\n",
       "    </tr>\n",
       "    <tr>\n",
       "      <th>4</th>\n",
       "      <td>Luis</td>\n",
       "      <td>30</td>\n",
       "      <td>Ica</td>\n",
       "      <td>90</td>\n",
       "      <td>True</td>\n",
       "    </tr>\n",
       "    <tr>\n",
       "      <th>6</th>\n",
       "      <td>Pedro</td>\n",
       "      <td>35</td>\n",
       "      <td>Lima</td>\n",
       "      <td>80</td>\n",
       "      <td>False</td>\n",
       "    </tr>\n",
       "    <tr>\n",
       "      <th>8</th>\n",
       "      <td>Ana</td>\n",
       "      <td>25</td>\n",
       "      <td>Puno</td>\n",
       "      <td>85</td>\n",
       "      <td>True</td>\n",
       "    </tr>\n",
       "    <tr>\n",
       "      <th>9</th>\n",
       "      <td>Luis</td>\n",
       "      <td>30</td>\n",
       "      <td>Ica</td>\n",
       "      <td>90</td>\n",
       "      <td>True</td>\n",
       "    </tr>\n",
       "  </tbody>\n",
       "</table>\n",
       "</div>"
      ],
      "text/plain": [
       "  Nombre  Edad Ciudad  Puntaje  Activo\n",
       "3    Ana    25   Lima       85    True\n",
       "4   Luis    30    Ica       90    True\n",
       "6  Pedro    35   Lima       80   False\n",
       "8    Ana    25   Puno       85    True\n",
       "9   Luis    30    Ica       90    True"
      ]
     },
     "execution_count": 101,
     "metadata": {},
     "output_type": "execute_result"
    }
   ],
   "source": [
    "# conserva la primera aparición de la columna ciudad y indica a las siguientes como duplicadas\n",
    "df_duplicates[df_duplicates.duplicated(keep=\"first\", subset=[\"Ciudad\"])]"
   ]
  },
  {
   "cell_type": "markdown",
   "id": "ea6534af",
   "metadata": {},
   "source": [
    "### Eliminación de filas duplicadas\n",
    "\n",
    "- Parámetros útiles ```.drop_duplicates()```:\n",
    "    - ```keep=\"first\"```: conserva la primera aparición de cada duplicado.\n",
    "    - ```keep=\"last\"```: conserva la última aparición de cada duplicado.\n",
    "    - ```keep=False```: elimina todos los duplicados.\n",
    "    - ```subset=['var_1', 'var_2']```: especifica qué columnas considerar para identificar duplicados."
   ]
  },
  {
   "cell_type": "code",
   "execution_count": 102,
   "id": "8c94781d",
   "metadata": {},
   "outputs": [
    {
     "data": {
      "text/html": [
       "<div>\n",
       "<style scoped>\n",
       "    .dataframe tbody tr th:only-of-type {\n",
       "        vertical-align: middle;\n",
       "    }\n",
       "\n",
       "    .dataframe tbody tr th {\n",
       "        vertical-align: top;\n",
       "    }\n",
       "\n",
       "    .dataframe thead th {\n",
       "        text-align: right;\n",
       "    }\n",
       "</style>\n",
       "<table border=\"1\" class=\"dataframe\">\n",
       "  <thead>\n",
       "    <tr style=\"text-align: right;\">\n",
       "      <th></th>\n",
       "      <th>Nombre</th>\n",
       "      <th>Edad</th>\n",
       "      <th>Ciudad</th>\n",
       "      <th>Puntaje</th>\n",
       "      <th>Activo</th>\n",
       "    </tr>\n",
       "  </thead>\n",
       "  <tbody>\n",
       "    <tr>\n",
       "      <th>0</th>\n",
       "      <td>Ana</td>\n",
       "      <td>25</td>\n",
       "      <td>Lima</td>\n",
       "      <td>85</td>\n",
       "      <td>True</td>\n",
       "    </tr>\n",
       "    <tr>\n",
       "      <th>1</th>\n",
       "      <td>Luis</td>\n",
       "      <td>30</td>\n",
       "      <td>Ica</td>\n",
       "      <td>90</td>\n",
       "      <td>True</td>\n",
       "    </tr>\n",
       "    <tr>\n",
       "      <th>2</th>\n",
       "      <td>Carlos</td>\n",
       "      <td>22</td>\n",
       "      <td>Arequipa</td>\n",
       "      <td>88</td>\n",
       "      <td>False</td>\n",
       "    </tr>\n",
       "    <tr>\n",
       "      <th>5</th>\n",
       "      <td>Marta</td>\n",
       "      <td>28</td>\n",
       "      <td>Puno</td>\n",
       "      <td>92</td>\n",
       "      <td>True</td>\n",
       "    </tr>\n",
       "    <tr>\n",
       "      <th>6</th>\n",
       "      <td>Pedro</td>\n",
       "      <td>35</td>\n",
       "      <td>Lima</td>\n",
       "      <td>80</td>\n",
       "      <td>False</td>\n",
       "    </tr>\n",
       "    <tr>\n",
       "      <th>7</th>\n",
       "      <td>Carlos</td>\n",
       "      <td>22</td>\n",
       "      <td>Ucayali</td>\n",
       "      <td>88</td>\n",
       "      <td>False</td>\n",
       "    </tr>\n",
       "    <tr>\n",
       "      <th>8</th>\n",
       "      <td>Ana</td>\n",
       "      <td>25</td>\n",
       "      <td>Puno</td>\n",
       "      <td>85</td>\n",
       "      <td>True</td>\n",
       "    </tr>\n",
       "  </tbody>\n",
       "</table>\n",
       "</div>"
      ],
      "text/plain": [
       "   Nombre  Edad    Ciudad  Puntaje  Activo\n",
       "0     Ana    25      Lima       85    True\n",
       "1    Luis    30       Ica       90    True\n",
       "2  Carlos    22  Arequipa       88   False\n",
       "5   Marta    28      Puno       92    True\n",
       "6   Pedro    35      Lima       80   False\n",
       "7  Carlos    22   Ucayali       88   False\n",
       "8     Ana    25      Puno       85    True"
      ]
     },
     "execution_count": 102,
     "metadata": {},
     "output_type": "execute_result"
    }
   ],
   "source": [
    "# conserva la primera aparición de cada duplicado\n",
    "df_duplicates.drop_duplicates(keep=\"first\")"
   ]
  },
  {
   "cell_type": "code",
   "execution_count": 103,
   "id": "5e0f74fa",
   "metadata": {},
   "outputs": [
    {
     "data": {
      "text/html": [
       "<div>\n",
       "<style scoped>\n",
       "    .dataframe tbody tr th:only-of-type {\n",
       "        vertical-align: middle;\n",
       "    }\n",
       "\n",
       "    .dataframe tbody tr th {\n",
       "        vertical-align: top;\n",
       "    }\n",
       "\n",
       "    .dataframe thead th {\n",
       "        text-align: right;\n",
       "    }\n",
       "</style>\n",
       "<table border=\"1\" class=\"dataframe\">\n",
       "  <thead>\n",
       "    <tr style=\"text-align: right;\">\n",
       "      <th></th>\n",
       "      <th>Nombre</th>\n",
       "      <th>Edad</th>\n",
       "      <th>Ciudad</th>\n",
       "      <th>Puntaje</th>\n",
       "      <th>Activo</th>\n",
       "    </tr>\n",
       "  </thead>\n",
       "  <tbody>\n",
       "    <tr>\n",
       "      <th>2</th>\n",
       "      <td>Carlos</td>\n",
       "      <td>22</td>\n",
       "      <td>Arequipa</td>\n",
       "      <td>88</td>\n",
       "      <td>False</td>\n",
       "    </tr>\n",
       "    <tr>\n",
       "      <th>3</th>\n",
       "      <td>Ana</td>\n",
       "      <td>25</td>\n",
       "      <td>Lima</td>\n",
       "      <td>85</td>\n",
       "      <td>True</td>\n",
       "    </tr>\n",
       "    <tr>\n",
       "      <th>5</th>\n",
       "      <td>Marta</td>\n",
       "      <td>28</td>\n",
       "      <td>Puno</td>\n",
       "      <td>92</td>\n",
       "      <td>True</td>\n",
       "    </tr>\n",
       "    <tr>\n",
       "      <th>6</th>\n",
       "      <td>Pedro</td>\n",
       "      <td>35</td>\n",
       "      <td>Lima</td>\n",
       "      <td>80</td>\n",
       "      <td>False</td>\n",
       "    </tr>\n",
       "    <tr>\n",
       "      <th>7</th>\n",
       "      <td>Carlos</td>\n",
       "      <td>22</td>\n",
       "      <td>Ucayali</td>\n",
       "      <td>88</td>\n",
       "      <td>False</td>\n",
       "    </tr>\n",
       "    <tr>\n",
       "      <th>8</th>\n",
       "      <td>Ana</td>\n",
       "      <td>25</td>\n",
       "      <td>Puno</td>\n",
       "      <td>85</td>\n",
       "      <td>True</td>\n",
       "    </tr>\n",
       "    <tr>\n",
       "      <th>9</th>\n",
       "      <td>Luis</td>\n",
       "      <td>30</td>\n",
       "      <td>Ica</td>\n",
       "      <td>90</td>\n",
       "      <td>True</td>\n",
       "    </tr>\n",
       "  </tbody>\n",
       "</table>\n",
       "</div>"
      ],
      "text/plain": [
       "   Nombre  Edad    Ciudad  Puntaje  Activo\n",
       "2  Carlos    22  Arequipa       88   False\n",
       "3     Ana    25      Lima       85    True\n",
       "5   Marta    28      Puno       92    True\n",
       "6   Pedro    35      Lima       80   False\n",
       "7  Carlos    22   Ucayali       88   False\n",
       "8     Ana    25      Puno       85    True\n",
       "9    Luis    30       Ica       90    True"
      ]
     },
     "execution_count": 103,
     "metadata": {},
     "output_type": "execute_result"
    }
   ],
   "source": [
    "# conserva la última aparición de cada duplicado\n",
    "df_duplicates.drop_duplicates(keep=\"last\")"
   ]
  },
  {
   "cell_type": "code",
   "execution_count": 104,
   "id": "ea776c1d",
   "metadata": {},
   "outputs": [
    {
     "data": {
      "text/html": [
       "<div>\n",
       "<style scoped>\n",
       "    .dataframe tbody tr th:only-of-type {\n",
       "        vertical-align: middle;\n",
       "    }\n",
       "\n",
       "    .dataframe tbody tr th {\n",
       "        vertical-align: top;\n",
       "    }\n",
       "\n",
       "    .dataframe thead th {\n",
       "        text-align: right;\n",
       "    }\n",
       "</style>\n",
       "<table border=\"1\" class=\"dataframe\">\n",
       "  <thead>\n",
       "    <tr style=\"text-align: right;\">\n",
       "      <th></th>\n",
       "      <th>Nombre</th>\n",
       "      <th>Edad</th>\n",
       "      <th>Ciudad</th>\n",
       "      <th>Puntaje</th>\n",
       "      <th>Activo</th>\n",
       "    </tr>\n",
       "  </thead>\n",
       "  <tbody>\n",
       "    <tr>\n",
       "      <th>2</th>\n",
       "      <td>Carlos</td>\n",
       "      <td>22</td>\n",
       "      <td>Arequipa</td>\n",
       "      <td>88</td>\n",
       "      <td>False</td>\n",
       "    </tr>\n",
       "    <tr>\n",
       "      <th>5</th>\n",
       "      <td>Marta</td>\n",
       "      <td>28</td>\n",
       "      <td>Puno</td>\n",
       "      <td>92</td>\n",
       "      <td>True</td>\n",
       "    </tr>\n",
       "    <tr>\n",
       "      <th>6</th>\n",
       "      <td>Pedro</td>\n",
       "      <td>35</td>\n",
       "      <td>Lima</td>\n",
       "      <td>80</td>\n",
       "      <td>False</td>\n",
       "    </tr>\n",
       "    <tr>\n",
       "      <th>7</th>\n",
       "      <td>Carlos</td>\n",
       "      <td>22</td>\n",
       "      <td>Ucayali</td>\n",
       "      <td>88</td>\n",
       "      <td>False</td>\n",
       "    </tr>\n",
       "    <tr>\n",
       "      <th>8</th>\n",
       "      <td>Ana</td>\n",
       "      <td>25</td>\n",
       "      <td>Puno</td>\n",
       "      <td>85</td>\n",
       "      <td>True</td>\n",
       "    </tr>\n",
       "  </tbody>\n",
       "</table>\n",
       "</div>"
      ],
      "text/plain": [
       "   Nombre  Edad    Ciudad  Puntaje  Activo\n",
       "2  Carlos    22  Arequipa       88   False\n",
       "5   Marta    28      Puno       92    True\n",
       "6   Pedro    35      Lima       80   False\n",
       "7  Carlos    22   Ucayali       88   False\n",
       "8     Ana    25      Puno       85    True"
      ]
     },
     "execution_count": 104,
     "metadata": {},
     "output_type": "execute_result"
    }
   ],
   "source": [
    "# elimina todos las filas duplicadas\n",
    "df_duplicates.drop_duplicates(keep=False)"
   ]
  },
  {
   "cell_type": "markdown",
   "id": "b0404879",
   "metadata": {},
   "source": [
    "## Correción de tipos de datos"
   ]
  },
  {
   "cell_type": "markdown",
   "id": "b2c76988",
   "metadata": {},
   "source": [
    "Creando el dataframe de prueba."
   ]
  },
  {
   "cell_type": "code",
   "execution_count": 105,
   "id": "36c6ca0d",
   "metadata": {},
   "outputs": [
    {
     "name": "stdout",
     "output_type": "stream",
     "text": [
      "<class 'pandas.core.frame.DataFrame'>\n",
      "RangeIndex: 3 entries, 0 to 2\n",
      "Data columns (total 3 columns):\n",
      " #   Column            Non-Null Count  Dtype \n",
      "---  ------            --------------  ----- \n",
      " 0   fecha_nacimiento  3 non-null      object\n",
      " 1   puntaje           3 non-null      object\n",
      " 2   seccion           3 non-null      object\n",
      "dtypes: object(3)\n",
      "memory usage: 200.0+ bytes\n",
      "None\n",
      "  fecha_nacimiento puntaje seccion\n",
      "0       2015-12-07      15       A\n",
      "1       2015-07-23      17       B\n",
      "2       2016-12-17      12       C\n"
     ]
    }
   ],
   "source": [
    "df_data = pd.DataFrame({'fecha_nacimiento': ['2015-12-07', '2015-07-23', '2016-12-17'],\n",
    "                        'puntaje': ['15', '17', '12'],\n",
    "                        'seccion': ['A', 'B', 'C']})\n",
    "print(df_data.info())\n",
    "print(df_data)"
   ]
  },
  {
   "cell_type": "markdown",
   "id": "b791a9ab",
   "metadata": {},
   "source": [
    "Dado las variables del dataframe se propone a corregir los tipos de datos ya sea fecha, número enteros y de tipo categórico"
   ]
  },
  {
   "cell_type": "code",
   "execution_count": 106,
   "id": "05db2ae1",
   "metadata": {},
   "outputs": [],
   "source": [
    "df_data[\"fecha_nacimiento\"] = pd.to_datetime(df_data[\"fecha_nacimiento\"])\n",
    "df_data[\"puntaje\"] = df_data[\"puntaje\"].astype(int)\n",
    "df_data[\"seccion\"] = df_data[\"seccion\"].astype('category')"
   ]
  },
  {
   "cell_type": "markdown",
   "id": "41a311f3",
   "metadata": {},
   "source": [
    "Verificando el cambio de tipo de dato para cada variable:\n",
    "\n",
    "Tipo fecha ```datetime64[ns]```, entero ```int64``` y categórico ```category```"
   ]
  },
  {
   "cell_type": "code",
   "execution_count": 107,
   "id": "e0c55230",
   "metadata": {},
   "outputs": [
    {
     "name": "stdout",
     "output_type": "stream",
     "text": [
      "<class 'pandas.core.frame.DataFrame'>\n",
      "RangeIndex: 3 entries, 0 to 2\n",
      "Data columns (total 3 columns):\n",
      " #   Column            Non-Null Count  Dtype         \n",
      "---  ------            --------------  -----         \n",
      " 0   fecha_nacimiento  3 non-null      datetime64[ns]\n",
      " 1   puntaje           3 non-null      int64         \n",
      " 2   seccion           3 non-null      category      \n",
      "dtypes: category(1), datetime64[ns](1), int64(1)\n",
      "memory usage: 311.0 bytes\n",
      "None\n"
     ]
    }
   ],
   "source": [
    "print(df_data.info())"
   ]
  },
  {
   "cell_type": "markdown",
   "id": "7957a210",
   "metadata": {},
   "source": [
    "### Corrección de algunos valores que indican fecha\n",
    "\n",
    "Los valores de fecha han sido ingresados como enteros ```int64``` "
   ]
  },
  {
   "cell_type": "code",
   "execution_count": 108,
   "id": "88bbd4a5",
   "metadata": {},
   "outputs": [
    {
     "name": "stdout",
     "output_type": "stream",
     "text": [
      "<class 'pandas.core.frame.DataFrame'>\n",
      "RangeIndex: 3 entries, 0 to 2\n",
      "Data columns (total 2 columns):\n",
      " #   Column             Non-Null Count  Dtype \n",
      "---  ------             --------------  ----- \n",
      " 0   fecha_inscripcion  3 non-null      int64 \n",
      " 1   usuario            3 non-null      object\n",
      "dtypes: int64(1), object(1)\n",
      "memory usage: 176.0+ bytes\n",
      "None\n",
      "--------------------------------------------------\n",
      "   fecha_inscripcion    usuario\n",
      "0           20240115       Luis\n",
      "1           20240216      Diego\n",
      "2           20240305  Elizabeth\n"
     ]
    }
   ],
   "source": [
    "df_date = pd.DataFrame({\"fecha_inscripcion\": [20240115, 20240216, 20240305],\n",
    "                        \"usuario\": [\"Luis\", \"Diego\", \"Elizabeth\"]})\n",
    "print(df_date.info())\n",
    "print(\"-\"*50)\n",
    "print(df_date)"
   ]
  },
  {
   "cell_type": "markdown",
   "id": "8ffd4fd4",
   "metadata": {},
   "source": [
    "Cambiando el tipo de dato a la columna fecha_inscripcion ```datetime64[ns]```"
   ]
  },
  {
   "cell_type": "code",
   "execution_count": 109,
   "id": "f7372efd",
   "metadata": {},
   "outputs": [
    {
     "name": "stdout",
     "output_type": "stream",
     "text": [
      "<class 'pandas.core.frame.DataFrame'>\n",
      "RangeIndex: 3 entries, 0 to 2\n",
      "Data columns (total 2 columns):\n",
      " #   Column             Non-Null Count  Dtype         \n",
      "---  ------             --------------  -----         \n",
      " 0   fecha_inscripcion  3 non-null      datetime64[ns]\n",
      " 1   usuario            3 non-null      object        \n",
      "dtypes: datetime64[ns](1), object(1)\n",
      "memory usage: 176.0+ bytes\n",
      "None\n",
      "  fecha_inscripcion    usuario\n",
      "0        2024-01-15       Luis\n",
      "1        2024-02-16      Diego\n",
      "2        2024-03-05  Elizabeth\n"
     ]
    }
   ],
   "source": [
    "df_date[\"fecha_inscripcion\"] = pd.to_datetime(df_date[\"fecha_inscripcion\"].astype(str), format=\"%Y%m%d\" )\n",
    "print(df_date.info())\n",
    "print(df_date)"
   ]
  },
  {
   "cell_type": "markdown",
   "id": "2081dcbe",
   "metadata": {},
   "source": [
    "## Normalización y estandarización de datos"
   ]
  },
  {
   "cell_type": "markdown",
   "id": "66eadec6",
   "metadata": {},
   "source": [
    "Creación de los datos siguiendo una distribución normal"
   ]
  },
  {
   "cell_type": "code",
   "execution_count": 110,
   "id": "6d140e89",
   "metadata": {},
   "outputs": [],
   "source": [
    "np.random.seed(42)\n",
    "datos = np.random.normal(60, 12, 700)"
   ]
  },
  {
   "cell_type": "markdown",
   "id": "47a93970",
   "metadata": {},
   "source": [
    "### Estandarización con ```Standard Scaler()``` y ```MinMaxScaler()```\n",
    "\n",
    "- ```StandardScaler```: Transforma los datos para que tengan media 0 y desviación estándar 1.\n",
    "- ```MinMaxScaler```: Escala los datos para que estén dentro de un rango definido, entre 0 y 1.\n"
   ]
  },
  {
   "cell_type": "code",
   "execution_count": 111,
   "id": "d8c39208",
   "metadata": {},
   "outputs": [],
   "source": [
    "from sklearn.preprocessing import StandardScaler, MinMaxScaler\n",
    "sc = StandardScaler()\n",
    "datos_sc = sc.fit_transform(datos.reshape(-1,1))\n",
    "\n",
    "min_max = MinMaxScaler()\n",
    "datos_min_max = min_max.fit_transform(datos.reshape(-1,1))"
   ]
  },
  {
   "cell_type": "code",
   "execution_count": 112,
   "id": "c30332ae",
   "metadata": {},
   "outputs": [
    {
     "data": {
      "image/png": "[encoded data removed]",
      "text/plain": [
       "<Figure size 3200x600 with 3 Axes>"
      ]
     },
     "metadata": {},
     "output_type": "display_data"
    }
   ],
   "source": [
    "fig, ax = plt.subplots(1, 3, figsize=(32, 6))\n",
    "ax[0].set_title(\"Datos originales\")\n",
    "sns.kdeplot(datos, ax=ax[0])\n",
    "ax[0].axvline(datos.mean(), color=\"red\", label=f\"Media: {datos.mean():.2f}\")\n",
    "ax[0].axvline(datos.mean() + datos.std(), color=\"green\", label=f\"Desviación estandar: {datos.std():.2f}\")\n",
    "ax[0].axvline(datos.mean() - datos.std(), color=\"green\")\n",
    "ax[0].legend(loc='upper right')\n",
    "ax[1].set_title(\"Standard Scaler\")\n",
    "sns.kdeplot(datos_sc, ax=ax[1])\n",
    "ax[1].axvline(datos_sc.mean(), color=\"red\", label=f\"Media: {datos_sc.mean():.2f}\")\n",
    "ax[1].axvline(datos_sc.mean() + datos_sc.std(), color=\"green\", label=f\"Desviación estandar: {datos_sc.std():.2f}\")\n",
    "ax[1].axvline(datos_sc.mean() - datos_sc.std(), color=\"green\")\n",
    "ax[1].legend(loc='upper right')\n",
    "ax[2].set_title(\"MinMaxScaler\")\n",
    "sns.kdeplot(datos_min_max, ax=ax[2])\n",
    "ax[2].axvline(datos_min_max.mean(), color=\"red\", label=f\"Media: {datos_min_max.mean():.2f}\")\n",
    "ax[2].axvline(datos_min_max.mean() + datos_min_max.std(), color=\"green\", label=f\"Desviación estandar: {datos_min_max.std():.2f}\")\n",
    "ax[2].axvline(datos_min_max.mean() - datos_min_max.std(), color=\"green\")\n",
    "ax[2].legend(loc='upper right')\n",
    "plt.tight_layout\n",
    "plt.show()"
   ]
  },
  {
   "cell_type": "markdown",
   "id": "9b2aee3d",
   "metadata": {},
   "source": [
    "### Transformando los datos para que se asemeje a una distribución normal (Gaussiana)"
   ]
  },
  {
   "cell_type": "markdown",
   "id": "9aa5208a",
   "metadata": {},
   "source": [
    "Creando datos siguiendo una distribución exponencial"
   ]
  },
  {
   "cell_type": "code",
   "execution_count": 113,
   "id": "a3756793",
   "metadata": {},
   "outputs": [],
   "source": [
    "np.random.seed(42)\n",
    "datos_exp = np.random.exponential(scale=70, size=200)"
   ]
  },
  {
   "cell_type": "markdown",
   "id": "c826ef5f",
   "metadata": {},
   "source": [
    "Importando la librería para asemejarlo a una distribución normal con ```PowerTransformer```\n",
    "\n",
    "- Métodos útiles:\n",
    "    - ```method=\"box-cox\"```: Requiere que todos los valores sean estrictamente positivos.\n",
    "    - ```method=\"yeo-johnson\"```: Adminte valores negativos y cero."
   ]
  },
  {
   "cell_type": "code",
   "execution_count": 114,
   "id": "96b1555d",
   "metadata": {},
   "outputs": [],
   "source": [
    "from sklearn.preprocessing import PowerTransformer\n",
    "\n",
    "power_t = PowerTransformer(method=\"box-cox\")\n",
    "datos_exp_power = power_t.fit_transform(datos_exp.reshape(-1,1))"
   ]
  },
  {
   "cell_type": "code",
   "execution_count": 115,
   "id": "1fede745",
   "metadata": {},
   "outputs": [
    {
     "data": {
      "image/png": "[encoded data removed]",
      "text/plain": [
       "<Figure size 1100x600 with 2 Axes>"
      ]
     },
     "metadata": {},
     "output_type": "display_data"
    }
   ],
   "source": [
    "fig, ax = plt.subplots(1, 2, figsize=(11, 6))\n",
    "ax[0].set_title(\"Datos originales\")\n",
    "sns.kdeplot(datos_exp, ax=ax[0])\n",
    "ax[1].set_title(\"Normalizado box-cox\")\n",
    "sns.kdeplot(datos_exp_power, ax=ax[1])\n",
    "legend1 = ax[1].get_legend()\n",
    "if legend1:\n",
    "    legend1.remove()\n",
    "\n",
    "plt.show()"
   ]
  },
  {
   "cell_type": "markdown",
   "id": "00572109",
   "metadata": {},
   "source": [
    "## Manejo de valores atípicos (outliers)"
   ]
  },
  {
   "cell_type": "code",
   "execution_count": 116,
   "id": "702ef08e",
   "metadata": {},
   "outputs": [],
   "source": [
    "np.random.seed(42)\n",
    "# datos sesgados con distribución exponencial\n",
    "datos_sesgados = np.random.exponential(scale=2, size=1000)\n",
    "# insertando algunos outliers extremos manualmente\n",
    "outliers = np.random.uniform(low=15, high=25, size=10)\n",
    "datos_con_outliers = np.concatenate([datos_sesgados, outliers])"
   ]
  },
  {
   "cell_type": "markdown",
   "id": "89876c7a",
   "metadata": {},
   "source": [
    "Identificando outliers con el índice intercuartílico"
   ]
  },
  {
   "cell_type": "code",
   "execution_count": 117,
   "id": "45a9a0ea",
   "metadata": {},
   "outputs": [],
   "source": [
    "# definiendo el primer y tercer cuartil\n",
    "Q1 = np.percentile(datos_exp, 25)\n",
    "Q3 = np.percentile(datos_exp, 75)\n",
    "# defineindo el indice intercuartílico\n",
    "IQR = Q3 - Q1\n",
    "# calculando el límite inferior y superior\n",
    "min = Q1 - 1.5*IQR\n",
    "max = Q3 + 1.5*IQR\n",
    "# filtrando los datos eliminando los outliers\n",
    "datos_sin_outliers = datos_exp[(datos_exp >= min) & (datos_exp <= max)]"
   ]
  },
  {
   "cell_type": "code",
   "execution_count": 118,
   "id": "d916ad93",
   "metadata": {},
   "outputs": [
    {
     "data": {
      "image/png": "[encoded data removed]",
      "text/plain": [
       "<Figure size 1200x400 with 2 Axes>"
      ]
     },
     "metadata": {},
     "output_type": "display_data"
    }
   ],
   "source": [
    "fig, ax = plt.subplots(1, 2, figsize=(12, 4))\n",
    "ax[0].set_title(\"Datos originales\")\n",
    "sns.boxplot(x=datos_con_outliers, width=0.3, ax=ax[0])\n",
    "ax[1].set_title(\"Datos aplicando el IQR\")\n",
    "sns.boxplot(x=datos_sin_outliers, width=0.3, ax=ax[1])\n",
    "plt.tight_layout()\n",
    "plt.show()"
   ]
  },
  {
   "cell_type": "markdown",
   "id": "167a134c",
   "metadata": {},
   "source": [
    "## Corrección de errores tipográficos o errores de digitación"
   ]
  },
  {
   "cell_type": "code",
   "execution_count": 119,
   "id": "7951adb2",
   "metadata": {},
   "outputs": [
    {
     "name": "stdout",
     "output_type": "stream",
     "text": [
      "       profesion    nombres provincia\n",
      "0  administrador     alvaro      Lima\n",
      "1          admin      diego      LIMA\n",
      "2           adm.      ruben      lima\n",
      "3      psicologo  elizabeth       Ate\n",
      "4          psico   veronica       ate\n",
      "5          psic.      carla      ate.\n"
     ]
    }
   ],
   "source": [
    "df_dig = pd.DataFrame({\"profesion\": [\"administrador\", \"admin\", \"adm.\", \"psicologo\", \"psico\", \"psic.\"],\n",
    "                       \"nombres\": [\"alvaro\", \"diego\", \"ruben\", \"elizabeth\", \"veronica\", \"carla\"],\n",
    "                       \"provincia\": [\"Lima\", \"LIMA\", \"lima\", \"Ate\", \"ate\", \"ate.\"]})\n",
    "print(df_dig)"
   ]
  },
  {
   "cell_type": "markdown",
   "id": "947f503a",
   "metadata": {},
   "source": [
    "Unificando datos categóricos de la columna profesion"
   ]
  },
  {
   "cell_type": "code",
   "execution_count": 120,
   "id": "5344fde7",
   "metadata": {},
   "outputs": [],
   "source": [
    "admi_names = list(df_dig[df_dig[\"profesion\"].str.contains(\"adm\")][\"profesion\"])\n",
    "# eliminando el nombre principal que se mantendrá\n",
    "admi_names.remove(\"administrador\")"
   ]
  },
  {
   "cell_type": "code",
   "execution_count": 121,
   "id": "efb21bdd",
   "metadata": {},
   "outputs": [
    {
     "name": "stdout",
     "output_type": "stream",
     "text": [
      "       profesion    nombres provincia\n",
      "0  administrador     alvaro      Lima\n",
      "1  administrador      diego      LIMA\n",
      "2  administrador      ruben      lima\n",
      "3      psicologo  elizabeth       Ate\n",
      "4          psico   veronica       ate\n",
      "5          psic.      carla      ate.\n"
     ]
    }
   ],
   "source": [
    "df_dig.loc[df_dig[\"profesion\"].isin(admi_names), \"profesion\"] = \"administrador\"\n",
    "print(df_dig)"
   ]
  },
  {
   "cell_type": "code",
   "execution_count": 122,
   "id": "572feecf",
   "metadata": {},
   "outputs": [],
   "source": [
    "psic_names = list(df_dig[df_dig[\"profesion\"].str.contains(\"psic\")][\"profesion\"])\n",
    "# eliminando el nombre principal que se mantendrá\n",
    "psic_names.remove(\"psicologo\")"
   ]
  },
  {
   "cell_type": "code",
   "execution_count": 123,
   "id": "a78d7c3f",
   "metadata": {},
   "outputs": [
    {
     "name": "stdout",
     "output_type": "stream",
     "text": [
      "       profesion    nombres provincia\n",
      "0  administrador     alvaro      Lima\n",
      "1  administrador      diego      LIMA\n",
      "2  administrador      ruben      lima\n",
      "3      psicologo  elizabeth       Ate\n",
      "4      psicologo   veronica       ate\n",
      "5      psicologo      carla      ate.\n"
     ]
    }
   ],
   "source": [
    "df_dig.loc[df_dig[\"profesion\"].isin(psic_names), \"profesion\"] = \"psicologo\"\n",
    "print(df_dig)"
   ]
  },
  {
   "cell_type": "markdown",
   "id": "9ead3d39",
   "metadata": {},
   "source": [
    "Transformando a minúscula los valores categóricos de la columna provincia"
   ]
  },
  {
   "cell_type": "code",
   "execution_count": 124,
   "id": "7aa7a053",
   "metadata": {},
   "outputs": [
    {
     "name": "stdout",
     "output_type": "stream",
     "text": [
      "       profesion    nombres provincia\n",
      "0  administrador     alvaro      lima\n",
      "1  administrador      diego      lima\n",
      "2  administrador      ruben      lima\n",
      "3      psicologo  elizabeth       ate\n",
      "4      psicologo   veronica       ate\n",
      "5      psicologo      carla      ate.\n"
     ]
    }
   ],
   "source": [
    "df_dig[\"provincia\"] = df_dig[\"provincia\"].str.lower()\n",
    "print(df_dig)"
   ]
  },
  {
   "cell_type": "markdown",
   "id": "55daaade",
   "metadata": {},
   "source": [
    "Convirtiendo la primera letra en Mayúscula"
   ]
  },
  {
   "cell_type": "code",
   "execution_count": 125,
   "id": "653301ff",
   "metadata": {},
   "outputs": [
    {
     "name": "stdout",
     "output_type": "stream",
     "text": [
      "       profesion    nombres provincia\n",
      "0  administrador     alvaro      Lima\n",
      "1  administrador      diego      Lima\n",
      "2  administrador      ruben      Lima\n",
      "3      psicologo  elizabeth       Ate\n",
      "4      psicologo   veronica       Ate\n",
      "5      psicologo      carla       Ate\n"
     ]
    }
   ],
   "source": [
    "df_dig[\"provincia\"] = df_dig[\"provincia\"].replace(\"ate.\", \"ate\", regex=False)\n",
    "df_dig[\"provincia\"] = df_dig[\"provincia\"].str.capitalize()\n",
    "print(df_dig)"
   ]
  },
  {
   "cell_type": "markdown",
   "id": "955f698e",
   "metadata": {},
   "source": [
    "## Codificación de variables categóricas"
   ]
  },
  {
   "cell_type": "markdown",
   "id": "e353c24c",
   "metadata": {},
   "source": [
    "- ```OneHotEncoder()```:  utilizada para convertir variables categóricas. Cada categoría se convierte en una columna binaria (0 o 1).\n",
    "\n",
    "- ```LabelBinarizer()```: utilizada para convertir etiquetas categóricas en una forma binaria. "
   ]
  },
  {
   "cell_type": "code",
   "execution_count": 126,
   "id": "ea6e3f72",
   "metadata": {},
   "outputs": [
    {
     "name": "stdout",
     "output_type": "stream",
     "text": [
      "   Color Animal Clase\n",
      "0   Rojo  Perro     A\n",
      "1  Verde   Gato     B\n",
      "2   Azul    Pez     A\n",
      "3   Rojo   Gato     C\n",
      "4   Azul  Perro     B\n"
     ]
    }
   ],
   "source": [
    "from sklearn.preprocessing import LabelBinarizer, OneHotEncoder\n",
    "\n",
    "data = {'Color': ['Rojo', 'Verde', 'Azul', 'Rojo', 'Azul'],\n",
    "        'Animal': ['Perro', 'Gato', 'Pez', 'Gato', 'Perro'],\n",
    "        'Clase': ['A', 'B', 'A', 'C', 'B']}\n",
    "\n",
    "df = pd.DataFrame(data)\n",
    "print(df)"
   ]
  },
  {
   "cell_type": "code",
   "execution_count": 127,
   "id": "e7a8c8a0",
   "metadata": {},
   "outputs": [
    {
     "name": "stdout",
     "output_type": "stream",
     "text": [
      "   Color_Azul  Color_Rojo  Color_Verde  Animal_Gato  Animal_Perro  Animal_Pez\n",
      "0         0.0         1.0          0.0          0.0           1.0         0.0\n",
      "1         0.0         0.0          1.0          1.0           0.0         0.0\n",
      "2         1.0         0.0          0.0          0.0           0.0         1.0\n",
      "3         0.0         1.0          0.0          1.0           0.0         0.0\n",
      "4         1.0         0.0          0.0          0.0           1.0         0.0\n"
     ]
    }
   ],
   "source": [
    "ohe = OneHotEncoder()\n",
    "vars_ohe = ohe.fit_transform(df[[\"Color\",\"Animal\"]])\n",
    "df_ohe = pd.DataFrame(vars_ohe.toarray(), columns=ohe.get_feature_names_out())\n",
    "print(df_ohe)"
   ]
  },
  {
   "cell_type": "code",
   "execution_count": 128,
   "id": "2da851e8",
   "metadata": {},
   "outputs": [
    {
     "name": "stdout",
     "output_type": "stream",
     "text": [
      "   Clase_A  Clase_B  Clase_C\n",
      "0        1        0        0\n",
      "1        0        1        0\n",
      "2        1        0        0\n",
      "3        0        0        1\n",
      "4        0        1        0\n"
     ]
    }
   ],
   "source": [
    "lb = LabelBinarizer()\n",
    "lb_y = lb.fit_transform(df[\"Clase\"])\n",
    "df_lb = pd.DataFrame(lb_y, columns=[f\"Clase_{name}\" for name in lb.classes_])\n",
    "print(df_lb)"
   ]
  }
 ],
 "metadata": {
  "kernelspec": {
   "display_name": "estudio",
   "language": "python",
   "name": "python3"
  },
  "language_info": {
   "codemirror_mode": {
    "name": "ipython",
    "version": 3
   },
   "file_extension": ".py",
   "mimetype": "text/x-python",
   "name": "python",
   "nbconvert_exporter": "python",
   "pygments_lexer": "ipython3",
   "version": "3.10.18"
  }
 },
 "nbformat": 4,
 "nbformat_minor": 5
}
